{
 "cells": [
  {
   "cell_type": "markdown",
   "metadata": {},
   "source": [
    "# VIEWERTOOL 1.0\n",
    "\n",
    "06.05.2020\n",
    "namd psf, dcd\n",
    "python 3.6.7 \n",
    "requirements (nanodesign_dietz, MDAnalysis, numpy, mrcfile, nglview, ipywidgets, pyqt5)"
   ]
  },
  {
   "cell_type": "code",
   "execution_count": 1,
   "metadata": {},
   "outputs": [],
   "source": [
    "%reload_ext autoreload\n",
    "%autoreload 2\n",
    "%matplotlib inline\n",
    "%gui qt"
   ]
  },
  {
   "cell_type": "code",
   "execution_count": 25,
   "metadata": {},
   "outputs": [],
   "source": [
    "import linkerapp as linkerAPP\n",
    "import linkerappUtil as Util"
   ]
  },
  {
   "cell_type": "markdown",
   "metadata": {},
   "source": [
    "# select  project\n",
    "select working directoy and required files. each cell opens a seperate FileDialog Popup"
   ]
  },
  {
   "cell_type": "code",
   "execution_count": 15,
   "metadata": {},
   "outputs": [],
   "source": [
    "# select a working directory\n",
    "wd = Util.gui_folderDialog()"
   ]
  },
  {
   "cell_type": "code",
   "execution_count": 16,
   "metadata": {},
   "outputs": [],
   "source": [
    "# select a cadnano deisgn file\n",
    "json = Util.gui_fileDialog(wd=wd, filter=\"caDNAno (*.json)\")"
   ]
  },
  {
   "cell_type": "code",
   "execution_count": 18,
   "metadata": {},
   "outputs": [],
   "source": [
    "psf = Util.gui_fileDialog(wd=wd, filter=\"topology (*.psf)\")"
   ]
  },
  {
   "cell_type": "code",
   "execution_count": 19,
   "metadata": {},
   "outputs": [],
   "source": [
    "pdb = Util.gui_fileDialog(wd=wd, filter=\"coordinates (*.dcd *.pdb)\")"
   ]
  },
  {
   "cell_type": "code",
   "execution_count": 20,
   "metadata": {},
   "outputs": [],
   "source": [
    "mrc = Util.gui_fileDialog(wd=wd, filter=\"cryo-map (*.mrc)\")"
   ]
  },
  {
   "cell_type": "code",
   "execution_count": 22,
   "metadata": {},
   "outputs": [],
   "source": [
    "seq = Util.gui_fileDialog(wd=wd, filter=\"sequence file (*.seq *.txt)\")"
   ]
  },
  {
   "cell_type": "code",
   "execution_count": 33,
   "metadata": {},
   "outputs": [
    {
     "name": "stdout",
     "output_type": "stream",
     "text": [
      "/Users/elija/Dropbox (DIETZ LAB)/elijafeigl/Projects/a-atomic/a-iii__cMDff/a-iii__enrgcMDff/a-iii-e__TTnative/a-iii-e-TTnative-074__refine/TTnative.json\n",
      "/Users/elija/Dropbox (DIETZ LAB)/elijafeigl/Projects/a-atomic/a-iii__cMDff/a-iii__enrgcMDff/a-iii-e__TTnative/a-iii-e-TTnative-074__refine/TTnative.psf\n",
      "/Users/elija/Dropbox (DIETZ LAB)/elijafeigl/Projects/a-atomic/a-iii__cMDff/a-iii__enrgcMDff/a-iii-e__TTnative/a-iii-e-TTnative-074__refine/TTnative.pdb\n",
      "/Users/elija/Dropbox (DIETZ LAB)/elijafeigl/Projects/a-atomic/a-iii__cMDff/a-iii__enrgcMDff/a-iii-e__TTnative/a-iii-e-TTnative-074__refine/TTnative.mrc\n",
      "/Users/elija/Dropbox (DIETZ LAB)/elijafeigl/Projects/a-atomic/a-iii__cMDff/a-iii__enrgcMDff/a-iii-e__TTnative/a-iii-e-TTnative-074__refine/TTnative.seq\n"
     ]
    }
   ],
   "source": [
    "json=\"/Users/elija/Dropbox (DIETZ LAB)/elijafeigl/Projects/a-atomic/a-iii__cMDff/a-iii__enrgcMDff/a-iii-e__TTnative/a-iii-e-TTnative-074__refine/TTnative.json\"\n",
    "pdf=\"/Users/elija/Dropbox (DIETZ LAB)/elijafeigl/Projects/a-atomic/a-iii__cMDff/a-iii__enrgcMDff/a-iii-e__TTnative/a-iii-e-TTnative-074__refine/TTnative.psf\"\n",
    "pdb=\"/Users/elija/Dropbox (DIETZ LAB)/elijafeigl/Projects/a-atomic/a-iii__cMDff/a-iii__enrgcMDff/a-iii-e__TTnative/a-iii-e-TTnative-074__refine/TTnative.pdb\"\n",
    "mrc=\"/Users/elija/Dropbox (DIETZ LAB)/elijafeigl/Projects/a-atomic/a-iii__cMDff/a-iii__enrgcMDff/a-iii-e__TTnative/a-iii-e-TTnative-074__refine/TTnative.mrc\"\n",
    "seq=\"/Users/elija/Dropbox (DIETZ LAB)/elijafeigl/Projects/a-atomic/a-iii__cMDff/a-iii__enrgcMDff/a-iii-e__TTnative/a-iii-e-TTnative-074__refine/TTnative.seq\""
   ]
  },
  {
   "cell_type": "code",
   "execution_count": 23,
   "metadata": {},
   "outputs": [],
   "source": [
    "files = Util.Files(json, psf, pdb, mrc, seq)"
   ]
  },
  {
   "cell_type": "code",
   "execution_count": 34,
   "metadata": {},
   "outputs": [],
   "source": [
    "viewer = linkerAPP.Viewer(wd, files=files)"
   ]
  },
  {
   "cell_type": "code",
   "execution_count": 37,
   "metadata": {},
   "outputs": [
    {
     "data": {
      "text/plain": [
       "Linker(project=Project(input=PosixPath('/Users/elija/Dropbox (DIETZ LAB)/elijafeigl/Projects/a-atomic/a-iii__cMDff/a-iii__enrgcMDff/a-iii-e__TTnative/a-iii-e-TTnative-074__refine'), output=PosixPath('/Users/elija/Dropbox (DIETZ LAB)/elijafeigl/Projects/a-atomic/a-iii__cMDff/a-iii__enrgcMDff/a-iii-e__TTnative/a-iii-e-TTnative-074__refine/analysis'), name='TTnative', files=Files(json=PosixPath('/Users/elija/Dropbox (DIETZ LAB)/elijafeigl/Projects/a-atomic/a-iii__cMDff/a-iii__enrgcMDff/a-iii-e__TTnative/a-iii-e-TTnative-074__refine/TTnative.json'), psf=PosixPath('/Users/elija/Dropbox (DIETZ LAB)/elijafeigl/Projects/a-atomic/a-iii__cMDff/a-iii__enrgcMDff/a-iii-e__TTnative/a-iii-e-TTnative-074__refine/TTnative.psf'), coor=PosixPath('/Users/elija/Dropbox (DIETZ LAB)/elijafeigl/Projects/a-atomic/a-iii__cMDff/a-iii__enrgcMDff/a-iii-e__TTnative/a-iii-e-TTnative-074__refine/TTnative.pdb'), mrc=PosixPath('/Users/elija/Dropbox (DIETZ LAB)/elijafeigl/Projects/a-atomic/a-iii__cMDff/a-iii__enrgcMDff/a-iii-e__TTnative/a-iii-e-TTnative-074__refine/TTnative.mrc'), seq=PosixPath('/Users/elija/Dropbox (DIETZ LAB)/elijafeigl/Projects/a-atomic/a-iii__cMDff/a-iii__enrgcMDff/a-iii-e__TTnative/a-iii-e-TTnative-074__refine/TTnative.seq')), context=5, range=10, halfmap=False, star=False))"
      ]
     },
     "execution_count": 37,
     "metadata": {},
     "output_type": "execute_result"
    }
   ],
   "source": [
    "viewer.linker"
   ]
  },
  {
   "cell_type": "markdown",
   "metadata": {},
   "source": [
    "# select helices and bases\n",
    "either use the widget or specify custom selection:\n",
    "* selection -> tuple containing to lists ([helix-ids],[base_ids])\n",
    "* context number of voxels arround a selection for map zoning"
   ]
  },
  {
   "cell_type": "markdown",
   "metadata": {},
   "source": [
    "## option 1: selection with widget \n",
    "(correct depiction for squarelattice)"
   ]
  },
  {
   "cell_type": "code",
   "execution_count": 28,
   "metadata": {},
   "outputs": [
    {
     "data": {
      "application/vnd.jupyter.widget-view+json": {
       "model_id": "15a67540920e48bda28c5689c8e8828d",
       "version_major": 2,
       "version_minor": 0
      },
      "text/plain": [
       "Box(children=(VBox(children=(VBox(children=(HBox(children=(ToggleButton(value=False, layout=Layout(height='30p…"
      ]
     },
     "metadata": {},
     "output_type": "display_data"
    }
   ],
   "source": [
    "sliders = viewer.make_sliders()"
   ]
  },
  {
   "cell_type": "code",
   "execution_count": 38,
   "metadata": {},
   "outputs": [],
   "source": [
    "helixandbase, context = viewer.eval_sliders(*sliders)\n",
    "atoms_selection, atoms_scaffold, atoms_staple, color_dict = viewer.select_by_helixandbase(*helixandbase)\n"
   ]
  },
  {
   "cell_type": "markdown",
   "metadata": {},
   "source": [
    "## option 2: custom selection"
   ]
  },
  {
   "cell_type": "code",
   "execution_count": 39,
   "metadata": {},
   "outputs": [
    {
     "data": {
      "text/plain": [
       "([55, 54, 53, 48, 49, 50], range(33, 115))"
      ]
     },
     "execution_count": 39,
     "metadata": {},
     "output_type": "execute_result"
    }
   ],
   "source": [
    "# or generate stomselection using mdAnalysis\n",
    "#TODO: color not retreivable\n",
    "#HINT: atomselections are combinable"
   ]
  },
  {
   "cell_type": "markdown",
   "metadata": {},
   "source": [
    "#  save selection\n",
    "-> name-temp.pdb/.mrc\n",
    "-> name-temp_chim.pdb\n",
    "\n",
    "write a pdb and an mrc of the selected atoms/regions to disk. (note: mrc file is overwritten whenever a new selection is made). name-temp_chim.pdb is corrected for use in chimera\n",
    "\n",
    "* last: if True only write the final frame"
   ]
  },
  {
   "cell_type": "code",
   "execution_count": null,
   "metadata": {},
   "outputs": [],
   "source": [
    "#create subset MRC-file (TODO: additional info)\n",
    "Util.mrc(atoms_selection, path=wd, context=context, cut_box=True)"
   ]
  },
  {
   "cell_type": "code",
   "execution_count": null,
   "metadata": {},
   "outputs": [],
   "source": [
    "#create subset pdb-file (chimeraX compatible) #TODO: vmd compatibility\n",
    "viewer.writepdb(atoms_selection, single_frame=True, frame=-1)"
   ]
  },
  {
   "cell_type": "code",
   "execution_count": null,
   "metadata": {},
   "outputs": [],
   "source": []
  },
  {
   "cell_type": "code",
   "execution_count": null,
   "metadata": {},
   "outputs": [],
   "source": []
  },
  {
   "cell_type": "code",
   "execution_count": null,
   "metadata": {},
   "outputs": [],
   "source": []
  },
  {
   "cell_type": "code",
   "execution_count": null,
   "metadata": {},
   "outputs": [],
   "source": []
  },
  {
   "cell_type": "code",
   "execution_count": null,
   "metadata": {},
   "outputs": [],
   "source": []
  },
  {
   "cell_type": "markdown",
   "metadata": {},
   "source": [
    "#  show selection\n",
    "* isovalue: isosurface threshold\n",
    "* backbone: true -> only backbone atoms displayed (faster); false -> all\n",
    "* color_dict: None -> no staple coloring (significantely faster)\n",
    "\n",
    "use the play button to show a movie of of the fitting or move the cursor to a specific timestep "
   ]
  },
  {
   "cell_type": "code",
   "execution_count": 31,
   "metadata": {
    "scrolled": false
   },
   "outputs": [
    {
     "ename": "ValueError",
     "evalue": "you must provide file extension if using file-like object or text content",
     "output_type": "error",
     "traceback": [
      "\u001b[0;31m---------------------------------------------------------------------------\u001b[0m",
      "\u001b[0;31mValueError\u001b[0m                                Traceback (most recent call last)",
      "\u001b[0;32m<ipython-input-31-e55acc920fc0>\u001b[0m in \u001b[0;36m<module>\u001b[0;34m\u001b[0m\n\u001b[1;32m      1\u001b[0m \u001b[0;31m#color_dict = None\u001b[0m\u001b[0;34m\u001b[0m\u001b[0;34m\u001b[0m\u001b[0;34m\u001b[0m\u001b[0m\n\u001b[0;32m----> 2\u001b[0;31m \u001b[0mUtil\u001b[0m\u001b[0;34m.\u001b[0m\u001b[0mfit_widget\u001b[0m\u001b[0;34m(\u001b[0m\u001b[0matoms_selection\u001b[0m\u001b[0;34m,\u001b[0m \u001b[0matoms_scaffold\u001b[0m\u001b[0;34m,\u001b[0m \u001b[0matoms_staple\u001b[0m\u001b[0;34m,\u001b[0m \u001b[0mpath\u001b[0m\u001b[0;34m=\u001b[0m\u001b[0mpath\u001b[0m\u001b[0;34m,\u001b[0m \u001b[0misolevel\u001b[0m\u001b[0;34m=\u001b[0m\u001b[0;36m1.35\u001b[0m\u001b[0;34m,\u001b[0m \u001b[0mbackbone\u001b[0m\u001b[0;34m=\u001b[0m\u001b[0;32mFalse\u001b[0m\u001b[0;34m,\u001b[0m \u001b[0mcolor_dict\u001b[0m\u001b[0;34m=\u001b[0m\u001b[0;32mNone\u001b[0m\u001b[0;34m)\u001b[0m\u001b[0;34m\u001b[0m\u001b[0;34m\u001b[0m\u001b[0m\n\u001b[0m",
      "\u001b[0;32m~/Dropbox (DIETZ LAB)/elijafeigl/Projects/a-atomic/a-v__viewer/a-v-v__code/linkerappUtil.py\u001b[0m in \u001b[0;36mfit_widget\u001b[0;34m(atoms_selection, atoms_scaffold, atoms_staple, path, opacity_map, isolevel, backbone, color_dict)\u001b[0m\n\u001b[1;32m    110\u001b[0m                             radius=0.6, color=\"blue\")\n\u001b[1;32m    111\u001b[0m \u001b[0;34m\u001b[0m\u001b[0m\n\u001b[0;32m--> 112\u001b[0;31m     \u001b[0mview\u001b[0m\u001b[0;34m.\u001b[0m\u001b[0madd_component\u001b[0m\u001b[0;34m(\u001b[0m\u001b[0mstr\u001b[0m\u001b[0;34m(\u001b[0m\u001b[0mpath\u001b[0m\u001b[0;34m)\u001b[0m \u001b[0;34m+\u001b[0m \u001b[0;34m\"-tmp.mrc\"\u001b[0m\u001b[0;34m)\u001b[0m\u001b[0;34m\u001b[0m\u001b[0;34m\u001b[0m\u001b[0m\n\u001b[0m\u001b[1;32m    113\u001b[0m     \u001b[0mview\u001b[0m\u001b[0;34m.\u001b[0m\u001b[0mclear\u001b[0m\u001b[0;34m(\u001b[0m\u001b[0mcomponent\u001b[0m\u001b[0;34m=\u001b[0m\u001b[0;36m1\u001b[0m\u001b[0;34m)\u001b[0m\u001b[0;34m\u001b[0m\u001b[0;34m\u001b[0m\u001b[0m\n\u001b[1;32m    114\u001b[0m     view.add_representation(\"surface\", component=1, color='grey',\n",
      "\u001b[0;32m~/.pyenv/versions/3.6.7/envs/v-i_3.6.7/lib/python3.6/site-packages/nglview/widget.py\u001b[0m in \u001b[0;36madd_component\u001b[0;34m(self, filename, **kwargs)\u001b[0m\n\u001b[1;32m   1203\u001b[0m                 \u001b[0mfilename\u001b[0m \u001b[0;34m=\u001b[0m \u001b[0mBACKENDS\u001b[0m\u001b[0;34m[\u001b[0m\u001b[0mpackage_name\u001b[0m\u001b[0;34m]\u001b[0m\u001b[0;34m(\u001b[0m\u001b[0mfilename\u001b[0m\u001b[0;34m)\u001b[0m\u001b[0;34m\u001b[0m\u001b[0;34m\u001b[0m\u001b[0m\n\u001b[1;32m   1204\u001b[0m \u001b[0;34m\u001b[0m\u001b[0m\n\u001b[0;32m-> 1205\u001b[0;31m         \u001b[0mself\u001b[0m\u001b[0;34m.\u001b[0m\u001b[0m_load_data\u001b[0m\u001b[0;34m(\u001b[0m\u001b[0mfilename\u001b[0m\u001b[0;34m,\u001b[0m \u001b[0;34m**\u001b[0m\u001b[0mkwargs\u001b[0m\u001b[0;34m)\u001b[0m\u001b[0;34m\u001b[0m\u001b[0;34m\u001b[0m\u001b[0m\n\u001b[0m\u001b[1;32m   1206\u001b[0m         \u001b[0;31m# assign an ID\u001b[0m\u001b[0;34m\u001b[0m\u001b[0;34m\u001b[0m\u001b[0;34m\u001b[0m\u001b[0m\n\u001b[1;32m   1207\u001b[0m         \u001b[0mself\u001b[0m\u001b[0;34m.\u001b[0m\u001b[0m_ngl_component_ids\u001b[0m\u001b[0;34m.\u001b[0m\u001b[0mappend\u001b[0m\u001b[0;34m(\u001b[0m\u001b[0mstr\u001b[0m\u001b[0;34m(\u001b[0m\u001b[0muuid\u001b[0m\u001b[0;34m.\u001b[0m\u001b[0muuid4\u001b[0m\u001b[0;34m(\u001b[0m\u001b[0;34m)\u001b[0m\u001b[0;34m)\u001b[0m\u001b[0;34m)\u001b[0m\u001b[0;34m\u001b[0m\u001b[0;34m\u001b[0m\u001b[0m\n",
      "\u001b[0;32m~/.pyenv/versions/3.6.7/envs/v-i_3.6.7/lib/python3.6/site-packages/nglview/widget.py\u001b[0m in \u001b[0;36m_load_data\u001b[0;34m(self, obj, **kwargs)\u001b[0m\n\u001b[1;32m   1241\u001b[0m                 \u001b[0mpassing_buffer\u001b[0m \u001b[0;34m=\u001b[0m \u001b[0;32mnot\u001b[0m \u001b[0mfh\u001b[0m\u001b[0;34m.\u001b[0m\u001b[0muse_filename\u001b[0m\u001b[0;34m\u001b[0m\u001b[0;34m\u001b[0m\u001b[0m\n\u001b[1;32m   1242\u001b[0m \u001b[0;34m\u001b[0m\u001b[0m\n\u001b[0;32m-> 1243\u001b[0;31m                 \u001b[0;32mif\u001b[0m \u001b[0mfh\u001b[0m\u001b[0;34m.\u001b[0m\u001b[0mext\u001b[0m \u001b[0;32mis\u001b[0m \u001b[0;32mNone\u001b[0m \u001b[0;32mand\u001b[0m \u001b[0mpassing_buffer\u001b[0m\u001b[0;34m:\u001b[0m\u001b[0;34m\u001b[0m\u001b[0;34m\u001b[0m\u001b[0m\n\u001b[0m\u001b[1;32m   1244\u001b[0m                     \u001b[0;32mraise\u001b[0m \u001b[0mValueError\u001b[0m\u001b[0;34m(\u001b[0m\u001b[0;34m'must provide extension'\u001b[0m\u001b[0;34m)\u001b[0m\u001b[0;34m\u001b[0m\u001b[0;34m\u001b[0m\u001b[0m\n\u001b[1;32m   1245\u001b[0m \u001b[0;34m\u001b[0m\u001b[0m\n",
      "\u001b[0;32m~/.pyenv/versions/3.6.7/envs/v-i_3.6.7/lib/python3.6/site-packages/nglview/utils/py_utils.py\u001b[0m in \u001b[0;36mext\u001b[0;34m(self)\u001b[0m\n\u001b[1;32m    241\u001b[0m                                              and not self.is_url):\n\u001b[1;32m    242\u001b[0m                 raise ValueError(\n\u001b[0;32m--> 243\u001b[0;31m                     \u001b[0;34m\"you must provide file extension if using file-like object or text content\"\u001b[0m\u001b[0;34m\u001b[0m\u001b[0;34m\u001b[0m\u001b[0m\n\u001b[0m\u001b[1;32m    244\u001b[0m                 )\n\u001b[1;32m    245\u001b[0m             \u001b[0;32mif\u001b[0m \u001b[0mself\u001b[0m\u001b[0;34m.\u001b[0m\u001b[0mis_compressed\u001b[0m\u001b[0;34m:\u001b[0m\u001b[0;34m\u001b[0m\u001b[0;34m\u001b[0m\u001b[0m\n",
      "\u001b[0;31mValueError\u001b[0m: you must provide file extension if using file-like object or text content"
     ]
    }
   ],
   "source": [
    "#color_dict = None\n",
    "Util.fit_widget(atoms_selection, atoms_scaffold, atoms_staple, path=path, isolevel=1.35, backbone=False, color_dict=None)\n"
   ]
  },
  {
   "cell_type": "markdown",
   "metadata": {},
   "source": [
    " \n",
    " \n",
    " \n",
    " \n",
    " \n",
    " "
   ]
  },
  {
   "cell_type": "markdown",
   "metadata": {},
   "source": [
    "  "
   ]
  }
 ],
 "metadata": {
  "kernelspec": {
   "display_name": "v-i_3.6.7",
   "language": "python",
   "name": "v-i_3.6.7"
  },
  "language_info": {
   "codemirror_mode": {
    "name": "ipython",
    "version": 3
   },
   "file_extension": ".py",
   "mimetype": "text/x-python",
   "name": "python",
   "nbconvert_exporter": "python",
   "pygments_lexer": "ipython3",
   "version": "3.6.7"
  }
 },
 "nbformat": 4,
 "nbformat_minor": 2
}
