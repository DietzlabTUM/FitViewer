{
 "cells": [
  {
   "cell_type": "markdown",
   "metadata": {},
   "source": [
    "# VIEWERTOOL-VERSION 4.0\n",
    "\n",
    "06.05.2020\n",
    "namd psf, dcd\n",
    "python 3.6.7 \n",
    "requirements (nanodesign_dietz, MDAnalysis, numpy, mrcfile, nglview, ipywidgets)"
   ]
  },
  {
   "cell_type": "code",
   "execution_count": 1,
   "metadata": {},
   "outputs": [],
   "source": [
    "%reload_ext autoreload\n",
    "%autoreload 2\n",
    "%matplotlib inline\n",
    "%gui qt"
   ]
  },
  {
   "cell_type": "code",
   "execution_count": 14,
   "metadata": {},
   "outputs": [],
   "source": [
    "import linkerapp as linkerAPP\n",
    "import linkerappUtil as Util\n",
    "import fileDialog"
   ]
  },
  {
   "cell_type": "markdown",
   "metadata": {},
   "source": [
    "# select  project\n",
    "select working directoy and required files. each cell opens a seperate FileDialog Popup"
   ]
  },
  {
   "cell_type": "code",
   "execution_count": 27,
   "metadata": {},
   "outputs": [],
   "source": [
    "wd = fileDialog.gui_folderDialog()"
   ]
  },
  {
   "cell_type": "code",
   "execution_count": 24,
   "metadata": {},
   "outputs": [],
   "source": [
    "json = fileDialog.gui_fileDialog(wd=wd, filter=\"caDNAno (*.json)\")"
   ]
  },
  {
   "cell_type": "code",
   "execution_count": null,
   "metadata": {},
   "outputs": [],
   "source": [
    "psf = fileDialog.gui_fileDialog(wd=wd, filter=\"topology (*.psf)\")"
   ]
  },
  {
   "cell_type": "code",
   "execution_count": null,
   "metadata": {},
   "outputs": [],
   "source": [
    "pdb = fileDialog.gui_fileDialog(wd=wd, filter=\"coordinates (*.dcd *.pdb)\")"
   ]
  },
  {
   "cell_type": "code",
   "execution_count": null,
   "metadata": {},
   "outputs": [],
   "source": [
    "mrc = fileDialog.gui_fileDialog(wd=wd, filter=\"cryo-map (*.mrc)\")"
   ]
  },
  {
   "cell_type": "code",
   "execution_count": 7,
   "metadata": {},
   "outputs": [
    {
     "name": "stderr",
     "output_type": "stream",
     "text": [
      "[nanodesign.converters.cadnano.reader] INFO - Reading caDNAno design file /Users/elija/Dropbox (DIETZ LAB)/elijafeigl/Projects/a-atomic/a-iii__cMDff/a-iii__enrgcMDff/a-iii-e__whopperv5/a-iii-e-whopperv5-003__HB/whopperv5.json\n",
      "[nanodesign.converters.cadnano.reader] INFO - Number of bases in a virtual helix 128 \n",
      "[nanodesign.converters.cadnano.reader] INFO - Lattice type square \n",
      "[nanodesign.converters.cadnano.reader] INFO - Number of virtual helices read 44 \n",
      "[nanodesign.converters.cadnano.reader] INFO - Number of scaffold bases read 2873 \n",
      "[nanodesign.converters.cadnano.reader] INFO - Maximum number of lattice rows 24 \n",
      "[nanodesign.converters.cadnano.reader] INFO - Maximum number of lattice columns 19 \n",
      "[nanodesign.converters.cadnano.convert_design] INFO - Distance between adjacent helices 2.3 \n",
      "[nanodesign.converters.cadnano.convert_design] INFO - Helix radius 1 \n",
      "[nanodesign.converters.cadnano.convert_design] INFO - Number of bases in design 6147 \n",
      "[nanodesign.converters.cadnano.convert_design] INFO - Number of strands 62 \n",
      "[nanodesign.data.dna_structure] INFO - Number of domains computed: 698 \n",
      "[nanodesign.data.dna_structure] INFO - Domain consistency check: all domains passed.\n"
     ]
    }
   ],
   "source": [
    "viewer = linkerAPP.Viewer(wd, files=[json, psf, pdb, mrc])"
   ]
  },
  {
   "cell_type": "markdown",
   "metadata": {},
   "source": [
    "# select helices and bases\n",
    "either use the widget or specify custom selection:\n",
    "* selection -> tuple containing to lists ([helix-ids],[base_ids])\n",
    "* context number of voxels arround a selection for map zoning"
   ]
  },
  {
   "cell_type": "markdown",
   "metadata": {},
   "source": [
    "#  save selection\n",
    "-> name-temp.pdb/.mrc\n",
    "-> name-temp_chim.pdb\n",
    "\n",
    "write a pdb and an mrc of the selected atoms/regions to disk. (note: mrc file is overwritten whenever a new selection is made). name-temp_chim.pdb is corrected for use in chimera\n",
    "\n",
    "* last: if True only write the final frame"
   ]
  },
  {
   "cell_type": "markdown",
   "metadata": {},
   "source": [
    "## option 1: selection with widget \n",
    "(correct depiction for squarelattice)"
   ]
  },
  {
   "cell_type": "code",
   "execution_count": 8,
   "metadata": {},
   "outputs": [
    {
     "data": {
      "application/vnd.jupyter.widget-view+json": {
       "model_id": "26a226bb6cee47cbba1d758b624b3ef5",
       "version_major": 2,
       "version_minor": 0
      },
      "text/plain": [
       "Box(children=(VBox(children=(VBox(children=(HBox(children=(ToggleButton(value=False, layout=Layout(height='30p…"
      ]
     },
     "metadata": {},
     "output_type": "display_data"
    }
   ],
   "source": [
    "sliders = viewer.make_selection()"
   ]
  },
  {
   "cell_type": "code",
   "execution_count": 14,
   "metadata": {},
   "outputs": [],
   "source": [
    "selection, context = viewer.eval_selection(*sliders)\n",
    "atoms_selection, atoms_scaffold, atoms_staple, color_dict = viewer.select(*selection)\n"
   ]
  },
  {
   "cell_type": "code",
   "execution_count": 44,
   "metadata": {},
   "outputs": [
    {
     "data": {
      "text/plain": [
       "<ResidueGroup with 6041 residues>"
      ]
     },
     "execution_count": 44,
     "metadata": {},
     "output_type": "execute_result"
    }
   ],
   "source": [
    "a = atoms_scaffold + atoms_staple\n",
    "x = a.universe.atoms - atoms_selection\n",
    "x"
   ]
  },
  {
   "cell_type": "code",
   "execution_count": 47,
   "metadata": {},
   "outputs": [
    {
     "data": {
      "text/plain": [
       "array([[-55.347054,  79.40373 , -60.625683],\n",
       "       [-62.24963 ,  94.369835, -49.916286],\n",
       "       [-56.695553,  98.25502 , -49.24538 ],\n",
       "       ...,\n",
       "       [ 60.549534, -26.550613,  20.85673 ],\n",
       "       [ 59.11184 , -25.574207,  42.32003 ],\n",
       "       [ 44.80192 ,  -5.790708,  49.934975]], dtype=float32)"
      ]
     },
     "execution_count": 47,
     "metadata": {},
     "output_type": "execute_result"
    }
   ],
   "source": [
    "x.select_atoms(\"name P and resname THY\").positions"
   ]
  },
  {
   "cell_type": "code",
   "execution_count": null,
   "metadata": {},
   "outputs": [],
   "source": [
    "selection, context = viewer.eval_selection(*sliders)\n",
    "\n",
    "\n",
    "\n",
    "\n",
    "path = viewer.project.input / \"{}\".format(viewer.project.name)\n",
    "\n",
    "\n",
    "Util.mrc(atoms_selection, path=path, context=context, cut_box=True)\n",
    "copyfile(str(path) + \"-tmp.mrc\", str(path) +\"-\" + \"positive\" + \".mrc\")\n",
    "Util.mrc(x, path=path, context=context, cut_box=True)\n",
    "copyfile(str(path) + \"-tmp.mrc\", str(path) +\"-\" + \"negative\" + \".mrc\")\n",
    "\n",
    "# set cut_box=True for minimum size mrc-box\n",
    "viewer.writepdb(atoms_selection)\n"
   ]
  },
  {
   "cell_type": "code",
   "execution_count": null,
   "metadata": {},
   "outputs": [],
   "source": [
    "from shutil import copyfile\n",
    "selection, context = viewer.eval_selection(*sliders)\n",
    "atoms_selection, atoms_scaffold, atoms_staple, color_dict = viewer.select(*selection)\n",
    "path = viewer.project.input / \"{}\".format(viewer.project.name)\n",
    "Util.mrc(atoms_selection, path=path, context=context, cut_box=True)\n",
    "# set cut_box=True for minimum size mrc-box\n",
    "for ts in atoms_selection.universe.trajectory:\n",
    "    print(ts.frame,)\n",
    "    viewer.writepdb(atoms_selection, single_frame=True, frame=ts.frame)\n",
    "    #copyfile(str(path) + \"-tmp.pdb\", str(path) + \"-\" + str(ts.frame) + \".pdb\")\n",
    "    copyfile(str(path) + \"-tmp_chim.pdb\", str(path) +\"-\" + str(ts.frame) + \"_chim.pdb\")"
   ]
  },
  {
   "cell_type": "code",
   "execution_count": null,
   "metadata": {},
   "outputs": [],
   "source": [
    "viewer.writepdb(atoms_selection, single_frame=True, frame=0)"
   ]
  },
  {
   "cell_type": "code",
   "execution_count": null,
   "metadata": {},
   "outputs": [],
   "source": [
    "x = \"pointer-2_chim.pdb\""
   ]
  },
  {
   "cell_type": "code",
   "execution_count": null,
   "metadata": {},
   "outputs": [],
   "source": [
    "number=2\n",
    "print(\"save ./png/pointer-{:03d}.png format png width 3840 height 2160 \\\n",
    "        supersample 3 transparentBackground true;\".format(number))"
   ]
  },
  {
   "cell_type": "code",
   "execution_count": null,
   "metadata": {},
   "outputs": [],
   "source": []
  },
  {
   "cell_type": "code",
   "execution_count": null,
   "metadata": {},
   "outputs": [],
   "source": [
    "#selection, context = viewer.eval_selection(*sliders)\n",
    "selection"
   ]
  },
  {
   "cell_type": "code",
   "execution_count": null,
   "metadata": {},
   "outputs": [],
   "source": [
    "u =atoms_selection.universe"
   ]
  },
  {
   "cell_type": "code",
   "execution_count": null,
   "metadata": {},
   "outputs": [],
   "source": [
    "t = u.trajectory[0]"
   ]
  },
  {
   "cell_type": "code",
   "execution_count": null,
   "metadata": {},
   "outputs": [],
   "source": [
    "t.frame"
   ]
  },
  {
   "cell_type": "code",
   "execution_count": null,
   "metadata": {},
   "outputs": [],
   "source": [
    "str(path)"
   ]
  },
  {
   "cell_type": "code",
   "execution_count": null,
   "metadata": {},
   "outputs": [],
   "source": []
  },
  {
   "cell_type": "code",
   "execution_count": null,
   "metadata": {},
   "outputs": [],
   "source": [
    "# bullet from t0brick\n",
    "start = 68\n",
    "end = start + 93\n",
    "selection = ([34, 25, 35, 36, 37, 46], range(start, end))\n",
    "atoms_selection, _, _, _ = viewer.select(*selection)\n",
    "\n",
    "print(\"1\")\n",
    "selection = ([27, 26], range(start+17, end-14))\n",
    "atoms_add, _, _, _ = viewer.select(*selection)\n",
    "atoms_selection += atoms_add\n",
    "print(\"2\")\n",
    "selection = ([31, 40], range(start+21, end-10))\n",
    "atoms_add, _, _, _ = viewer.select(*selection)\n",
    "atoms_selection += atoms_add\n",
    "print(\"3\")\n",
    "selection = ([44, 45], range(start+13, end-18))\n",
    "atoms_add, _, _, _ = viewer.select(*selection)\n",
    "atoms_selection += atoms_add\n",
    "print(\"4\")\n",
    "selection = ([32, 33], range(start-7, end+4))\n",
    "atoms_add, _, _, _ = viewer.select(*selection)\n",
    "atoms_selection += atoms_add\n",
    "print(\"5\")\n",
    "selection = ([39, 38], range(start-4, end))\n",
    "atoms_add, _, _, _ = viewer.select(*selection)\n",
    "atoms_selection += atoms_add\n",
    "print(\"6\")\n",
    "\n",
    "path = viewer.project.input / \"{}\".format(viewer.project.name)\n",
    "Util.mrc(atoms_selection, path=path, context=context, cut_box=True)\n",
    "# set cut_box=True for minimum size mrc-box\n",
    "viewer.writepdb(atoms_selection, single_frame=True, frame=-1) \n",
    "\n"
   ]
  },
  {
   "cell_type": "code",
   "execution_count": null,
   "metadata": {},
   "outputs": [],
   "source": [
    "# bullet from t0brick\n",
    "start = 65\n",
    "end = start + 93\n",
    "selection = ([22, 13, 23, 24, 25, 34], range(start, end))\n",
    "atoms_selection, _, _, _ = viewer.select(*selection)\n",
    "\n",
    "print(\"1\")\n",
    "selection = ([15, 14], range(start+17, end-14))\n",
    "atoms_add, _, _, _ = viewer.select(*selection)\n",
    "atoms_selection += atoms_add\n",
    "print(\"2\")\n",
    "selection = ([19, 28], range(start+21, end-10))\n",
    "atoms_add, _, _, _ = viewer.select(*selection)\n",
    "atoms_selection += atoms_add\n",
    "print(\"3\")\n",
    "selection = ([32, 33], range(start+13, end-18))\n",
    "atoms_add, _, _, _ = viewer.select(*selection)\n",
    "atoms_selection += atoms_add\n",
    "print(\"4\")\n",
    "selection = ([20, 21], range(start-7, end+4))\n",
    "atoms_add, _, _, _ = viewer.select(*selection)\n",
    "atoms_selection += atoms_add\n",
    "print(\"5\")\n",
    "selection = ([27, 26], range(start-4, end))\n",
    "atoms_add, _, _, _ = viewer.select(*selection)\n",
    "atoms_selection += atoms_add\n",
    "print(\"6\")\n",
    "\n",
    "path = viewer.project.input / \"{}\".format(viewer.project.name)\n",
    "Util.mrc(atoms_selection, path=path, context=context, cut_box=True)\n",
    "# set cut_box=True for minimum size mrc-box\n",
    "viewer.writepdb(atoms_selection, single_frame=True, frame=-1) \n"
   ]
  },
  {
   "cell_type": "code",
   "execution_count": null,
   "metadata": {},
   "outputs": [],
   "source": [
    "atoms_selection"
   ]
  },
  {
   "cell_type": "markdown",
   "metadata": {},
   "source": [
    "## option 2: custom selection"
   ]
  },
  {
   "cell_type": "code",
   "execution_count": null,
   "metadata": {},
   "outputs": [],
   "source": [
    "########  Action required  #########\n",
    "#selection = range(0,126)\n",
    "#selection = ([66, 75, 13, 21], range(15,145))\n",
    "#hb126 selection = (range(0,126),[85, 86, 87])#[ 60, 61, 85, 86,  110, 111, 135, 136])\n",
    "#hb126 selection = ([35], range(40,150))#([35, 42, 54, 66], range(40,150))\n",
    "selection = (range(0,126), range(0,100))\n",
    "context = 5\n",
    "####################################"
   ]
  },
  {
   "cell_type": "code",
   "execution_count": 49,
   "metadata": {},
   "outputs": [
    {
     "name": "stderr",
     "output_type": "stream",
     "text": [
      "/Users/elija/.pyenv/versions/a-v_3.6.7/lib/python3.6/site-packages/MDAnalysis/coordinates/PDB.py:902: UserWarning: Found no information for attr: 'altLocs' Using default value of ' '\n",
      "  \"\".format(attrname, default))\n",
      "/Users/elija/.pyenv/versions/a-v_3.6.7/lib/python3.6/site-packages/MDAnalysis/coordinates/PDB.py:902: UserWarning: Found no information for attr: 'icodes' Using default value of ' '\n",
      "  \"\".format(attrname, default))\n",
      "/Users/elija/.pyenv/versions/a-v_3.6.7/lib/python3.6/site-packages/MDAnalysis/coordinates/PDB.py:902: UserWarning: Found no information for attr: 'occupancies' Using default value of '1.0'\n",
      "  \"\".format(attrname, default))\n",
      "/Users/elija/.pyenv/versions/a-v_3.6.7/lib/python3.6/site-packages/MDAnalysis/coordinates/PDB.py:902: UserWarning: Found no information for attr: 'tempfactors' Using default value of '0.0'\n",
      "  \"\".format(attrname, default))\n"
     ]
    }
   ],
   "source": [
    "atoms_selection, atoms_scaffold, atoms_staple, color_dict = viewer.select(*selection)\n",
    "path = viewer.project.input / \"{}\".format(viewer.project.name)\n",
    "#Util.mrc(atoms_selection, path=path, context=context)\n",
    "viewer.writepdb(atoms_selection, single_frame=True, frame=-1) "
   ]
  },
  {
   "cell_type": "markdown",
   "metadata": {},
   "source": [
    "#  show selection\n",
    "* isovalue: isosurface threshold\n",
    "* backbone: true -> only backbone atoms displayed (faster); false -> all\n",
    "* color_dict: None -> no staple coloring (significantely faster)\n",
    "\n",
    "use the play button to show a movie of of the fitting or move the cursor to a specific timestep "
   ]
  },
  {
   "cell_type": "code",
   "execution_count": 50,
   "metadata": {
    "scrolled": false
   },
   "outputs": [
    {
     "ename": "ValueError",
     "evalue": "you must provide file extension if using file-like object or text content",
     "output_type": "error",
     "traceback": [
      "\u001b[0;31m---------------------------------------------------------------------------\u001b[0m",
      "\u001b[0;31mValueError\u001b[0m                                Traceback (most recent call last)",
      "\u001b[0;32m<ipython-input-50-e55acc920fc0>\u001b[0m in \u001b[0;36m<module>\u001b[0;34m\u001b[0m\n\u001b[1;32m      1\u001b[0m \u001b[0;31m#color_dict = None\u001b[0m\u001b[0;34m\u001b[0m\u001b[0;34m\u001b[0m\u001b[0;34m\u001b[0m\u001b[0m\n\u001b[0;32m----> 2\u001b[0;31m \u001b[0mUtil\u001b[0m\u001b[0;34m.\u001b[0m\u001b[0mfit_widget\u001b[0m\u001b[0;34m(\u001b[0m\u001b[0matoms_selection\u001b[0m\u001b[0;34m,\u001b[0m \u001b[0matoms_scaffold\u001b[0m\u001b[0;34m,\u001b[0m \u001b[0matoms_staple\u001b[0m\u001b[0;34m,\u001b[0m \u001b[0mpath\u001b[0m\u001b[0;34m=\u001b[0m\u001b[0mpath\u001b[0m\u001b[0;34m,\u001b[0m \u001b[0misolevel\u001b[0m\u001b[0;34m=\u001b[0m\u001b[0;36m1.35\u001b[0m\u001b[0;34m,\u001b[0m \u001b[0mbackbone\u001b[0m\u001b[0;34m=\u001b[0m\u001b[0;32mFalse\u001b[0m\u001b[0;34m,\u001b[0m \u001b[0mcolor_dict\u001b[0m\u001b[0;34m=\u001b[0m\u001b[0;32mNone\u001b[0m\u001b[0;34m)\u001b[0m\u001b[0;34m\u001b[0m\u001b[0;34m\u001b[0m\u001b[0m\n\u001b[0m",
      "\u001b[0;32m~/Dropbox (DIETZ LAB)/elijafeigl/Projects/a-atomic/a-v__viewer/a-v-v__code/linkerappUtil.py\u001b[0m in \u001b[0;36mfit_widget\u001b[0;34m(atoms_selection, atoms_scaffold, atoms_staple, path, opacity_map, isolevel, backbone, color_dict)\u001b[0m\n\u001b[1;32m    103\u001b[0m                             radius=0.6, color=\"blue\")\n\u001b[1;32m    104\u001b[0m \u001b[0;34m\u001b[0m\u001b[0m\n\u001b[0;32m--> 105\u001b[0;31m     \u001b[0mview\u001b[0m\u001b[0;34m.\u001b[0m\u001b[0madd_component\u001b[0m\u001b[0;34m(\u001b[0m\u001b[0mstr\u001b[0m\u001b[0;34m(\u001b[0m\u001b[0mpath\u001b[0m\u001b[0;34m)\u001b[0m \u001b[0;34m+\u001b[0m \u001b[0;34m\"-tmp.mrc\"\u001b[0m\u001b[0;34m)\u001b[0m\u001b[0;34m\u001b[0m\u001b[0;34m\u001b[0m\u001b[0m\n\u001b[0m\u001b[1;32m    106\u001b[0m     \u001b[0mview\u001b[0m\u001b[0;34m.\u001b[0m\u001b[0mclear\u001b[0m\u001b[0;34m(\u001b[0m\u001b[0mcomponent\u001b[0m\u001b[0;34m=\u001b[0m\u001b[0;36m1\u001b[0m\u001b[0;34m)\u001b[0m\u001b[0;34m\u001b[0m\u001b[0;34m\u001b[0m\u001b[0m\n\u001b[1;32m    107\u001b[0m     view.add_representation(\"surface\", component=1, color='grey',\n",
      "\u001b[0;32m~/.pyenv/versions/a-v_3.6.7/lib/python3.6/site-packages/nglview/widget.py\u001b[0m in \u001b[0;36madd_component\u001b[0;34m(self, filename, **kwargs)\u001b[0m\n\u001b[1;32m   1162\u001b[0m         \u001b[0mfaster\u001b[0m \u001b[0mto\u001b[0m \u001b[0mload\u001b[0m \u001b[0mfile\u001b[0m \u001b[0;32mfrom\u001b[0m \u001b[0mcurrent\u001b[0m \u001b[0;32mor\u001b[0m \u001b[0msubfolder\u001b[0m\u001b[0;34m.\u001b[0m\u001b[0;34m\u001b[0m\u001b[0;34m\u001b[0m\u001b[0m\n\u001b[1;32m   1163\u001b[0m         '''\n\u001b[0;32m-> 1164\u001b[0;31m         \u001b[0mself\u001b[0m\u001b[0;34m.\u001b[0m\u001b[0m_load_data\u001b[0m\u001b[0;34m(\u001b[0m\u001b[0mfilename\u001b[0m\u001b[0;34m,\u001b[0m \u001b[0;34m**\u001b[0m\u001b[0mkwargs\u001b[0m\u001b[0;34m)\u001b[0m\u001b[0;34m\u001b[0m\u001b[0;34m\u001b[0m\u001b[0m\n\u001b[0m\u001b[1;32m   1165\u001b[0m         \u001b[0;31m# assign an ID\u001b[0m\u001b[0;34m\u001b[0m\u001b[0;34m\u001b[0m\u001b[0;34m\u001b[0m\u001b[0m\n\u001b[1;32m   1166\u001b[0m         \u001b[0mself\u001b[0m\u001b[0;34m.\u001b[0m\u001b[0m_ngl_component_ids\u001b[0m\u001b[0;34m.\u001b[0m\u001b[0mappend\u001b[0m\u001b[0;34m(\u001b[0m\u001b[0mstr\u001b[0m\u001b[0;34m(\u001b[0m\u001b[0muuid\u001b[0m\u001b[0;34m.\u001b[0m\u001b[0muuid4\u001b[0m\u001b[0;34m(\u001b[0m\u001b[0;34m)\u001b[0m\u001b[0;34m)\u001b[0m\u001b[0;34m)\u001b[0m\u001b[0;34m\u001b[0m\u001b[0;34m\u001b[0m\u001b[0m\n",
      "\u001b[0;32m~/.pyenv/versions/a-v_3.6.7/lib/python3.6/site-packages/nglview/widget.py\u001b[0m in \u001b[0;36m_load_data\u001b[0;34m(self, obj, **kwargs)\u001b[0m\n\u001b[1;32m   1201\u001b[0m                 \u001b[0mpassing_buffer\u001b[0m \u001b[0;34m=\u001b[0m \u001b[0;32mnot\u001b[0m \u001b[0mfh\u001b[0m\u001b[0;34m.\u001b[0m\u001b[0muse_filename\u001b[0m\u001b[0;34m\u001b[0m\u001b[0;34m\u001b[0m\u001b[0m\n\u001b[1;32m   1202\u001b[0m \u001b[0;34m\u001b[0m\u001b[0m\n\u001b[0;32m-> 1203\u001b[0;31m                 \u001b[0;32mif\u001b[0m \u001b[0mfh\u001b[0m\u001b[0;34m.\u001b[0m\u001b[0mext\u001b[0m \u001b[0;32mis\u001b[0m \u001b[0;32mNone\u001b[0m \u001b[0;32mand\u001b[0m \u001b[0mpassing_buffer\u001b[0m\u001b[0;34m:\u001b[0m\u001b[0;34m\u001b[0m\u001b[0;34m\u001b[0m\u001b[0m\n\u001b[0m\u001b[1;32m   1204\u001b[0m                     \u001b[0;32mraise\u001b[0m \u001b[0mValueError\u001b[0m\u001b[0;34m(\u001b[0m\u001b[0;34m'must provide extension'\u001b[0m\u001b[0;34m)\u001b[0m\u001b[0;34m\u001b[0m\u001b[0;34m\u001b[0m\u001b[0m\n\u001b[1;32m   1205\u001b[0m \u001b[0;34m\u001b[0m\u001b[0m\n",
      "\u001b[0;32m~/.pyenv/versions/a-v_3.6.7/lib/python3.6/site-packages/nglview/utils/py_utils.py\u001b[0m in \u001b[0;36mext\u001b[0;34m(self)\u001b[0m\n\u001b[1;32m    249\u001b[0m                                              not self.is_url):\n\u001b[1;32m    250\u001b[0m                 raise ValueError(\n\u001b[0;32m--> 251\u001b[0;31m                     \u001b[0;34m\"you must provide file extension if using file-like object or text content\"\u001b[0m\u001b[0;34m\u001b[0m\u001b[0;34m\u001b[0m\u001b[0m\n\u001b[0m\u001b[1;32m    252\u001b[0m                 )\n\u001b[1;32m    253\u001b[0m             \u001b[0;32mif\u001b[0m \u001b[0mself\u001b[0m\u001b[0;34m.\u001b[0m\u001b[0mis_compressed\u001b[0m\u001b[0;34m:\u001b[0m\u001b[0;34m\u001b[0m\u001b[0;34m\u001b[0m\u001b[0m\n",
      "\u001b[0;31mValueError\u001b[0m: you must provide file extension if using file-like object or text content"
     ]
    }
   ],
   "source": [
    "#color_dict = None\n",
    "Util.fit_widget(atoms_selection, atoms_scaffold, atoms_staple, path=path, isolevel=1.35, backbone=False, color_dict=None)\n"
   ]
  },
  {
   "cell_type": "markdown",
   "metadata": {},
   "source": [
    " \n",
    " \n",
    " \n",
    " \n",
    " \n",
    " "
   ]
  },
  {
   "cell_type": "markdown",
   "metadata": {},
   "source": [
    "  "
   ]
  }
 ],
 "metadata": {
  "kernelspec": {
   "display_name": "v-i_3.6.7",
   "language": "python",
   "name": "v-i_3.6.7"
  },
  "language_info": {
   "codemirror_mode": {
    "name": "ipython",
    "version": 3
   },
   "file_extension": ".py",
   "mimetype": "text/x-python",
   "name": "python",
   "nbconvert_exporter": "python",
   "pygments_lexer": "ipython3",
   "version": "3.6.7"
  }
 },
 "nbformat": 4,
 "nbformat_minor": 2
}
