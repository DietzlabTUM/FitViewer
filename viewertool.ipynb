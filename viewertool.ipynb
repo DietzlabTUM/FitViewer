{
 "cells": [
  {
   "cell_type": "markdown",
   "metadata": {},
   "source": [
    "<center><h1>ATOMIC MODEL MRC-VIEWERTOOL</h1></center>\n",
    "<center><h3>version 1.0</h3> </center>\n",
    "\n",
    "<center><h5>TU Munich, Dietzlab</h5></center>\n",
    "<center><h5>author: Elija Feigl, elija.feigl@tum.de</h5></center>\n",
    "<center><h5>license: GPL-3.0</h5></center>\n",
    "<center><h5>please cite: ****unpublished***</h5></center>"
   ]
  },
  {
   "cell_type": "code",
   "execution_count": 1,
   "metadata": {},
   "outputs": [],
   "source": [
    "%reload_ext autoreload\n",
    "%autoreload 2\n",
    "%matplotlib inline\n",
    "#%gui qt"
   ]
  },
  {
   "cell_type": "code",
   "execution_count": 2,
   "metadata": {},
   "outputs": [
    {
     "data": {
      "application/vnd.jupyter.widget-view+json": {
       "model_id": "5c76beb4ad68421d9368cbd4c96ca8b3",
       "version_major": 2,
       "version_minor": 0
      },
      "text/plain": []
     },
     "metadata": {},
     "output_type": "display_data"
    }
   ],
   "source": [
    "%matplotlib inline\n",
    "%gui qt\n",
    "import linkerapp as linkerAPP\n",
    "import linkerappUtil as Util"
   ]
  },
  {
   "cell_type": "markdown",
   "metadata": {},
   "source": [
    "## 1. select project folder and files\n",
    "select working directoy and required files by executing each cell\n",
    "each cell opens a seperate FileDialog Popup"
   ]
  },
  {
   "cell_type": "code",
   "execution_count": 4,
   "metadata": {},
   "outputs": [],
   "source": [
    "# select a working directory\n",
    "wd = Util.gui_folderDialog()"
   ]
  },
  {
   "cell_type": "code",
   "execution_count": 5,
   "metadata": {},
   "outputs": [],
   "source": [
    "# select a cadnano deisgn file\n",
    "json = Util.gui_fileDialog(wd=wd, filter=\"caDNAno (*.json)\")"
   ]
  },
  {
   "cell_type": "code",
   "execution_count": 6,
   "metadata": {},
   "outputs": [],
   "source": [
    "psf = Util.gui_fileDialog(wd=wd, filter=\"topology (*.psf)\")"
   ]
  },
  {
   "cell_type": "code",
   "execution_count": 7,
   "metadata": {},
   "outputs": [],
   "source": [
    "pdb = Util.gui_fileDialog(wd=wd, filter=\"coordinates (*.dcd *.pdb)\")"
   ]
  },
  {
   "cell_type": "code",
   "execution_count": 8,
   "metadata": {},
   "outputs": [],
   "source": [
    "mrc = Util.gui_fileDialog(wd=wd, filter=\"cryo-map (*.mrc)\")"
   ]
  },
  {
   "cell_type": "code",
   "execution_count": 9,
   "metadata": {},
   "outputs": [],
   "source": [
    "seq = Util.gui_fileDialog(wd=wd, filter=\"sequence file (*.seq *.txt)\")"
   ]
  },
  {
   "cell_type": "code",
   "execution_count": 3,
   "metadata": {},
   "outputs": [],
   "source": [
    "from pathlib import Path\n",
    "wd = \"/Users/elija/Desktop\"\n",
    "json=Path(\"/Users/elija/Dropbox (DIETZ LAB)/elijafeigl/Projects/a-atomic/a-iii__cMDff/a-iii__enrgcMDff/a-iii-e__TTnative/a-iii-e-TTnative-074__refine/TTnative.json\")\n",
    "psf=Path(\"/Users/elija/Dropbox (DIETZ LAB)/elijafeigl/Projects/a-atomic/a-iii__cMDff/a-iii__enrgcMDff/a-iii-e__TTnative/a-iii-e-TTnative-074__refine/TTnative.psf\")\n",
    "pdb=Path(\"/Users/elija/Dropbox (DIETZ LAB)/elijafeigl/Projects/a-atomic/a-iii__cMDff/a-iii__enrgcMDff/a-iii-e__TTnative/a-iii-e-TTnative-074__refine/TTnative.pdb\")\n",
    "mrc=Path(\"/Users/elija/Dropbox (DIETZ LAB)/elijafeigl/Projects/a-atomic/a-iii__cMDff/a-iii__enrgcMDff/a-iii-e__TTnative/a-iii-e-TTnative-074__refine/TTnative.mrc\")\n",
    "seq=Path(\"/Users/elija/Dropbox (DIETZ LAB)/elijafeigl/Projects/a-atomic/a-iii__cMDff/a-iii__enrgcMDff/a-iii-e__TTnative/a-iii-e-TTnative-074__refine/TTnative.seq\")"
   ]
  },
  {
   "cell_type": "code",
   "execution_count": 12,
   "metadata": {},
   "outputs": [
    {
     "data": {
      "text/plain": [
       "Files(json=PosixPath('/Users/elija/Dropbox (DIETZ LAB)/elijafeigl/Projects/a-atomic/a-iii__cMDff/a-iii__enrgcMDff/a-iii-e__bulletv7/a-iii-e-bulletv7-013__HB_final0-localres/bulletv7.json'), psf=PosixPath('/Users/elija/Dropbox (DIETZ LAB)/elijafeigl/Projects/a-atomic/a-iii__cMDff/a-iii__enrgcMDff/a-iii-e__bulletv7/a-iii-e-bulletv7-013__HB_final0-localres/bulletv7.psf'), coor=PosixPath('/Users/elija/Dropbox (DIETZ LAB)/elijafeigl/Projects/a-atomic/a-iii__cMDff/a-iii__enrgcMDff/a-iii-e__bulletv7/a-iii-e-bulletv7-013__HB_final0-localres/bulletv7.dcd'), mrc=PosixPath('/Users/elija/Dropbox (DIETZ LAB)/elijafeigl/Projects/a-atomic/a-iii__cMDff/a-iii__enrgcMDff/a-iii-e__bulletv7/a-iii-e-bulletv7-013__HB_final0-localres/bulletv7.mrc'), seq=PosixPath('/Users/elija/Dropbox (DIETZ LAB)/elijafeigl/Projects/a-atomic/a-iii__cMDff/a-iii__enrgcMDff/a-iii-e__bulletv7/a-iii-e-bulletv7-013__HB_final0-localres/bulletv7.seq'))"
      ]
     },
     "execution_count": 12,
     "metadata": {},
     "output_type": "execute_result"
    }
   ],
   "source": [
    "Files(json=PosixPath('/Users/elija/Dropbox (DIETZ LAB)/elijafeigl/Projects/a-atomic/a-iii__cMDff/a-iii__enrgcMDff/a-iii-e__bulletv7/a-iii-e-bulletv7-013__HB_final0-localres/bulletv7.json'), psf=PosixPath('/Users/elija/Dropbox (DIETZ LAB)/elijafeigl/Projects/a-atomic/a-iii__cMDff/a-iii__enrgcMDff/a-iii-e__bulletv7/a-iii-e-bulletv7-013__HB_final0-localres/bulletv7.psf'), coor=PosixPath('/Users/elija/Dropbox (DIETZ LAB)/elijafeigl/Projects/a-atomic/a-iii__cMDff/a-iii__enrgcMDff/a-iii-e__bulletv7/a-iii-e-bulletv7-013__HB_final0-localres/bulletv7.dcd'), mrc=PosixPath('/Users/elija/Dropbox (DIETZ LAB)/elijafeigl/Projects/a-atomic/a-iii__cMDff/a-iii__enrgcMDff/a-iii-e__bulletv7/a-iii-e-bulletv7-013__HB_final0-localres/bulletv7.mrc'), seq=PosixPath('/Users/elija/Dropbox (DIETZ LAB)/elijafeigl/Projects/a-atomic/a-iii__cMDff/a-iii__enrgcMDff/a-iii-e__bulletv7/a-iii-e-bulletv7-013__HB_final0-localres/bulletv7.seq'))"
   ]
  },
  {
   "cell_type": "markdown",
   "metadata": {},
   "source": [
    "# 2. parse filepaths and create Viewer instance\n",
    "The viewer class contains both the data instances (design, map, model) and the selection functionality.\n",
    "On creating the linkage between these fit and design is computed. this step might require a couple of seconds, depending on the design size."
   ]
  },
  {
   "cell_type": "code",
   "execution_count": 16,
   "metadata": {},
   "outputs": [],
   "source": [
    "files = linkerAPP.Files(json, psf, pdb, mrc, seq)\n",
    "viewer = linkerAPP.Viewer(wd, files=files)"
   ]
  },
  {
   "cell_type": "markdown",
   "metadata": {},
   "source": [
    "# 3. select subset of the atomic model\n",
    "the viewer class supports different selection options:\n",
    "* design-specific selection: subset specified by helix-id and base-position as in caDNAno designfile.\n",
    "    * using selection widget -> option A\n",
    "    * manual selection -> option B\n",
    "* fit-specific selection: subset directly by MDAnalysis atomselection functionalities\n",
    "    * example strand-specific selection: -> option C\n",
    "    \n",
    "    \n",
    "In the end, all selections are translated into a selection of atom, stored as an MDAnalysis AtomGroup.   \n"
   ]
  },
  {
   "cell_type": "markdown",
   "metadata": {},
   "source": [
    "### Option A: selection with widget \n",
    "selection: selected helices (clicked) are displayed in dark grey. the \"base\" slider selects the base-position range.\n",
    "context: slider for the area surrounding a selected atom for mrc-cropping (in Å)\n",
    "\n",
    "<br />\n",
    "\n",
    "---\n",
    "\n",
    "the content of the widget is evaluated by executing\n",
    "\n",
    "``helixandbase, context = viewer.eval_sliders(*sliders)`` \n",
    "which returns a tuple containing two lists([helix-ids],[base_ids]) and the context value\n",
    "\n",
    "the list-tuple can be translated into an AtomGroup by executing:\n",
    "``atoms_selection, color_dict = viewer.select_by_helixandbase(*helixandbase)``\n",
    "\n",
    "the method returns the AtomGroup ``atoms_selection`` \n",
    "\n",
    "---\n",
    "\n",
    "(it also returns the dictionary ``color_dict`` containing information about staple coloring in the .json file, that can be used to color staples in the ngl_view widget)"
   ]
  },
  {
   "cell_type": "code",
   "execution_count": 5,
   "metadata": {},
   "outputs": [
    {
     "data": {
      "application/vnd.jupyter.widget-view+json": {
       "model_id": "fccb8be1798e42d08ac59080b6ffae8c",
       "version_major": 2,
       "version_minor": 0
      },
      "text/plain": [
       "Box(children=(VBox(children=(VBox(children=(HBox(children=(ToggleButton(value=False, disabled=True, layout=Lay…"
      ]
     },
     "metadata": {},
     "output_type": "display_data"
    }
   ],
   "source": [
    "sliders = viewer.make_sliders()"
   ]
  },
  {
   "cell_type": "code",
   "execution_count": 14,
   "metadata": {},
   "outputs": [],
   "source": [
    "helixandbase, context = viewer.eval_sliders(*sliders)\n",
    "atoms_selection, color_dict = viewer.select_by_helixandbase(*helixandbase)"
   ]
  },
  {
   "cell_type": "markdown",
   "metadata": {},
   "source": [
    "### Option B: manual selection\n",
    "``viewer.select_by_helixandbase(helices, base)`` can also be called directly using two lists, specifying the helix-ids and base positions.\n",
    "\n",
    "the method can also be applied to multiple subsets of the data, as MDAnalysis AtomGroups can be combined to realize more complex selections. (more details see option C)"
   ]
  },
  {
   "cell_type": "code",
   "execution_count": 13,
   "metadata": {},
   "outputs": [],
   "source": [
    "## example Option B:\n",
    "atoms_selection, color_dict = viewer.select_by_helixandbase([12,13], range(40,68))"
   ]
  },
  {
   "cell_type": "markdown",
   "metadata": {},
   "source": [
    "### option C: Fit secific selection\n",
    "generate atomselection using mdAnalysis. \n",
    "the MDAnalysis baseclass is available via ``viewer.linker.fit.u``\n",
    "\n",
    "documentation:(https://www.mdanalysis.org/docs/documentation_pages/selections.html)\n",
    "NOTES:\n",
    "* AtomGroups are combinable using set-syntax (f.e. selection = selectionA + selectionB)\n",
    "* AtomGroups can be inverted by subtraction them from the full system accessible via .universe.atoms attribute. this is usefull for creating masks for multibody and local scanning refinement processes.\n",
    "* (design-specific staple coloring is not compatible with this option)"
   ]
  },
  {
   "cell_type": "code",
   "execution_count": 134,
   "metadata": {},
   "outputs": [],
   "source": [
    "## example Option C: all double-stranded segments with staples beginning with the sequence ATCG\n",
    "\n",
    "# select all staples beginning with a specific sequence, via the intersection of all staples with the correct base condition\n",
    "# start with all segments and filter with additional conditions\n",
    "ATCG = u.segments\n",
    "for idx, X in enumerate([\"ADE\", \"THY\", \"CYT\", \"GUA\"]):\n",
    "    ATCG = ATCG.segments & u.select_atoms(\"resname {} and resid {}\".format(X, idx+1)).segments\n",
    "staple_selection  = ATCG.segments.atoms\n",
    "\n",
    "# select all paired scaffold bases using the Base-Pair list generated from the design in viewer.linker.link\n",
    "# start with empty group and iteratively add all scaffold bases\n",
    "scaffold_selection = Util.AtomGroup([],u)\n",
    "for residue in staple_selection.residues:\n",
    "    watson_crick_base = viewer.linker.link.Fbp_full.get(residue.resindex, None)\n",
    "    if watson_crick_base:\n",
    "        scaffold_selection += u.residues[watson_crick_base].atoms\n",
    "\n",
    "# combine scaffold and staple atoms to  form the final atom_selection\n",
    "atom_selection = scaffold_selection + staple_selection"
   ]
  },
  {
   "cell_type": "markdown",
   "metadata": {},
   "source": [
    "# 3. Cropping and Zoning \n",
    "the generated AtomGroup can be used for\n",
    "* generating a pdb of te subset represented by the AtomGroup\n",
    "* creating a new mrc-map that only contains data in the vicinity (context) of the selected atoms \n",
    "\n",
    "<br />\n",
    "\n",
    "---\n",
    "create subset MRC-file\n",
    "\n",
    "``viewer.writemrc(atoms_selection, wd, name, [context=context, cut_box=True])``\n",
    "\n",
    "cut_box: if `True`, remove zero-padding from volume\n",
    "\n",
    "---\n",
    "\n",
    "create subset pdb-file (chimeraX compatible)\n",
    "\n",
    "``viewer.writepdb(atoms_selection, wd, name, [single_frame=True, frame=-1, chimeraX=True])``\n",
    "\n",
    "single_frame: if `False`, create multiframe pdb for full trajectory (multiframe can take a couple of minutes)\n",
    "\n",
    "frame: frame index to be saved, default -1 = last (mrc always for last frame)\n",
    "\n",
    "chimeraX: if `True`, also create chimeraX compatible pdb-file (\"name_chim.pdb\")"
   ]
  },
  {
   "cell_type": "code",
   "execution_count": 7,
   "metadata": {},
   "outputs": [],
   "source": [
    "#choose output name\n",
    "name = \"slice-1\""
   ]
  },
  {
   "cell_type": "code",
   "execution_count": 18,
   "metadata": {},
   "outputs": [],
   "source": [
    "#create subset MRC-file\n",
    "viewer.writemrc(atoms_selection, name, context=context, cut_box=True)"
   ]
  },
  {
   "cell_type": "code",
   "execution_count": 19,
   "metadata": {},
   "outputs": [],
   "source": [
    "#create subset pdb-file (chimeraX compatible)\n",
    "viewer.writepdb(atoms_selection, name, single_frame=True, frame=-1, chimeraX=True)"
   ]
  },
  {
   "cell_type": "markdown",
   "metadata": {},
   "source": [
    "# (4.  display selection)\n",
    "* isovalue: isosurface threshold\n",
    "* backbone: true -> only backbone atoms displayed (faster); false -> all\n",
    "* color_dict: None -> no staple coloring (significantely faster)\n",
    "\n",
    "use the play button to show a movie of of the fitting or move the cursor to a specific timestep "
   ]
  },
  {
   "cell_type": "code",
   "execution_count": 31,
   "metadata": {
    "scrolled": false
   },
   "outputs": [
    {
     "ename": "ValueError",
     "evalue": "you must provide file extension if using file-like object or text content",
     "output_type": "error",
     "traceback": [
      "\u001b[0;31m---------------------------------------------------------------------------\u001b[0m",
      "\u001b[0;31mValueError\u001b[0m                                Traceback (most recent call last)",
      "\u001b[0;32m<ipython-input-31-e55acc920fc0>\u001b[0m in \u001b[0;36m<module>\u001b[0;34m\u001b[0m\n\u001b[1;32m      1\u001b[0m \u001b[0;31m#color_dict = None\u001b[0m\u001b[0;34m\u001b[0m\u001b[0;34m\u001b[0m\u001b[0;34m\u001b[0m\u001b[0m\n\u001b[0;32m----> 2\u001b[0;31m \u001b[0mUtil\u001b[0m\u001b[0;34m.\u001b[0m\u001b[0mfit_widget\u001b[0m\u001b[0;34m(\u001b[0m\u001b[0matoms_selection\u001b[0m\u001b[0;34m,\u001b[0m \u001b[0matoms_scaffold\u001b[0m\u001b[0;34m,\u001b[0m \u001b[0matoms_staple\u001b[0m\u001b[0;34m,\u001b[0m \u001b[0mpath\u001b[0m\u001b[0;34m=\u001b[0m\u001b[0mpath\u001b[0m\u001b[0;34m,\u001b[0m \u001b[0misolevel\u001b[0m\u001b[0;34m=\u001b[0m\u001b[0;36m1.35\u001b[0m\u001b[0;34m,\u001b[0m \u001b[0mbackbone\u001b[0m\u001b[0;34m=\u001b[0m\u001b[0;32mFalse\u001b[0m\u001b[0;34m,\u001b[0m \u001b[0mcolor_dict\u001b[0m\u001b[0;34m=\u001b[0m\u001b[0;32mNone\u001b[0m\u001b[0;34m)\u001b[0m\u001b[0;34m\u001b[0m\u001b[0;34m\u001b[0m\u001b[0m\n\u001b[0m",
      "\u001b[0;32m~/Dropbox (DIETZ LAB)/elijafeigl/Projects/a-atomic/a-v__viewer/a-v-v__code/linkerappUtil.py\u001b[0m in \u001b[0;36mfit_widget\u001b[0;34m(atoms_selection, atoms_scaffold, atoms_staple, path, opacity_map, isolevel, backbone, color_dict)\u001b[0m\n\u001b[1;32m    110\u001b[0m                             radius=0.6, color=\"blue\")\n\u001b[1;32m    111\u001b[0m \u001b[0;34m\u001b[0m\u001b[0m\n\u001b[0;32m--> 112\u001b[0;31m     \u001b[0mview\u001b[0m\u001b[0;34m.\u001b[0m\u001b[0madd_component\u001b[0m\u001b[0;34m(\u001b[0m\u001b[0mstr\u001b[0m\u001b[0;34m(\u001b[0m\u001b[0mpath\u001b[0m\u001b[0;34m)\u001b[0m \u001b[0;34m+\u001b[0m \u001b[0;34m\"-tmp.mrc\"\u001b[0m\u001b[0;34m)\u001b[0m\u001b[0;34m\u001b[0m\u001b[0;34m\u001b[0m\u001b[0m\n\u001b[0m\u001b[1;32m    113\u001b[0m     \u001b[0mview\u001b[0m\u001b[0;34m.\u001b[0m\u001b[0mclear\u001b[0m\u001b[0;34m(\u001b[0m\u001b[0mcomponent\u001b[0m\u001b[0;34m=\u001b[0m\u001b[0;36m1\u001b[0m\u001b[0;34m)\u001b[0m\u001b[0;34m\u001b[0m\u001b[0;34m\u001b[0m\u001b[0m\n\u001b[1;32m    114\u001b[0m     view.add_representation(\"surface\", component=1, color='grey',\n",
      "\u001b[0;32m~/.pyenv/versions/3.6.7/envs/v-i_3.6.7/lib/python3.6/site-packages/nglview/widget.py\u001b[0m in \u001b[0;36madd_component\u001b[0;34m(self, filename, **kwargs)\u001b[0m\n\u001b[1;32m   1203\u001b[0m                 \u001b[0mfilename\u001b[0m \u001b[0;34m=\u001b[0m \u001b[0mBACKENDS\u001b[0m\u001b[0;34m[\u001b[0m\u001b[0mpackage_name\u001b[0m\u001b[0;34m]\u001b[0m\u001b[0;34m(\u001b[0m\u001b[0mfilename\u001b[0m\u001b[0;34m)\u001b[0m\u001b[0;34m\u001b[0m\u001b[0;34m\u001b[0m\u001b[0m\n\u001b[1;32m   1204\u001b[0m \u001b[0;34m\u001b[0m\u001b[0m\n\u001b[0;32m-> 1205\u001b[0;31m         \u001b[0mself\u001b[0m\u001b[0;34m.\u001b[0m\u001b[0m_load_data\u001b[0m\u001b[0;34m(\u001b[0m\u001b[0mfilename\u001b[0m\u001b[0;34m,\u001b[0m \u001b[0;34m**\u001b[0m\u001b[0mkwargs\u001b[0m\u001b[0;34m)\u001b[0m\u001b[0;34m\u001b[0m\u001b[0;34m\u001b[0m\u001b[0m\n\u001b[0m\u001b[1;32m   1206\u001b[0m         \u001b[0;31m# assign an ID\u001b[0m\u001b[0;34m\u001b[0m\u001b[0;34m\u001b[0m\u001b[0;34m\u001b[0m\u001b[0m\n\u001b[1;32m   1207\u001b[0m         \u001b[0mself\u001b[0m\u001b[0;34m.\u001b[0m\u001b[0m_ngl_component_ids\u001b[0m\u001b[0;34m.\u001b[0m\u001b[0mappend\u001b[0m\u001b[0;34m(\u001b[0m\u001b[0mstr\u001b[0m\u001b[0;34m(\u001b[0m\u001b[0muuid\u001b[0m\u001b[0;34m.\u001b[0m\u001b[0muuid4\u001b[0m\u001b[0;34m(\u001b[0m\u001b[0;34m)\u001b[0m\u001b[0;34m)\u001b[0m\u001b[0;34m)\u001b[0m\u001b[0;34m\u001b[0m\u001b[0;34m\u001b[0m\u001b[0m\n",
      "\u001b[0;32m~/.pyenv/versions/3.6.7/envs/v-i_3.6.7/lib/python3.6/site-packages/nglview/widget.py\u001b[0m in \u001b[0;36m_load_data\u001b[0;34m(self, obj, **kwargs)\u001b[0m\n\u001b[1;32m   1241\u001b[0m                 \u001b[0mpassing_buffer\u001b[0m \u001b[0;34m=\u001b[0m \u001b[0;32mnot\u001b[0m \u001b[0mfh\u001b[0m\u001b[0;34m.\u001b[0m\u001b[0muse_filename\u001b[0m\u001b[0;34m\u001b[0m\u001b[0;34m\u001b[0m\u001b[0m\n\u001b[1;32m   1242\u001b[0m \u001b[0;34m\u001b[0m\u001b[0m\n\u001b[0;32m-> 1243\u001b[0;31m                 \u001b[0;32mif\u001b[0m \u001b[0mfh\u001b[0m\u001b[0;34m.\u001b[0m\u001b[0mext\u001b[0m \u001b[0;32mis\u001b[0m \u001b[0;32mNone\u001b[0m \u001b[0;32mand\u001b[0m \u001b[0mpassing_buffer\u001b[0m\u001b[0;34m:\u001b[0m\u001b[0;34m\u001b[0m\u001b[0;34m\u001b[0m\u001b[0m\n\u001b[0m\u001b[1;32m   1244\u001b[0m                     \u001b[0;32mraise\u001b[0m \u001b[0mValueError\u001b[0m\u001b[0;34m(\u001b[0m\u001b[0;34m'must provide extension'\u001b[0m\u001b[0;34m)\u001b[0m\u001b[0;34m\u001b[0m\u001b[0;34m\u001b[0m\u001b[0m\n\u001b[1;32m   1245\u001b[0m \u001b[0;34m\u001b[0m\u001b[0m\n",
      "\u001b[0;32m~/.pyenv/versions/3.6.7/envs/v-i_3.6.7/lib/python3.6/site-packages/nglview/utils/py_utils.py\u001b[0m in \u001b[0;36mext\u001b[0;34m(self)\u001b[0m\n\u001b[1;32m    241\u001b[0m                                              and not self.is_url):\n\u001b[1;32m    242\u001b[0m                 raise ValueError(\n\u001b[0;32m--> 243\u001b[0;31m                     \u001b[0;34m\"you must provide file extension if using file-like object or text content\"\u001b[0m\u001b[0;34m\u001b[0m\u001b[0;34m\u001b[0m\u001b[0m\n\u001b[0m\u001b[1;32m    244\u001b[0m                 )\n\u001b[1;32m    245\u001b[0m             \u001b[0;32mif\u001b[0m \u001b[0mself\u001b[0m\u001b[0;34m.\u001b[0m\u001b[0mis_compressed\u001b[0m\u001b[0;34m:\u001b[0m\u001b[0;34m\u001b[0m\u001b[0;34m\u001b[0m\u001b[0m\n",
      "\u001b[0;31mValueError\u001b[0m: you must provide file extension if using file-like object or text content"
     ]
    }
   ],
   "source": [
    "#color_dict = None\n",
    "Util.fit_widget(atoms_selection, atoms_scaffold, atoms_staple, path=path, isolevel=1.35, backbone=False, color_dict=None)\n"
   ]
  },
  {
   "cell_type": "markdown",
   "metadata": {},
   "source": [
    " \n",
    " \n",
    " \n",
    " \n",
    " \n",
    " "
   ]
  },
  {
   "cell_type": "markdown",
   "metadata": {},
   "source": [
    "  "
   ]
  }
 ],
 "metadata": {
  "kernelspec": {
   "display_name": "v-i_3.6.7",
   "language": "python",
   "name": "v-i_3.6.7"
  },
  "language_info": {
   "codemirror_mode": {
    "name": "ipython",
    "version": 3
   },
   "file_extension": ".py",
   "mimetype": "text/x-python",
   "name": "python",
   "nbconvert_exporter": "python",
   "pygments_lexer": "ipython3",
   "version": "3.6.7"
  }
 },
 "nbformat": 4,
 "nbformat_minor": 2
}
