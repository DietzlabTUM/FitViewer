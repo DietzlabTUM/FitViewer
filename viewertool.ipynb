{
 "cells": [
  {
   "cell_type": "code",
   "execution_count": 1,
   "metadata": {},
   "outputs": [
    {
     "output_type": "display_data",
     "data": {
      "text/plain": "",
      "application/vnd.jupyter.widget-view+json": {
       "version_major": 2,
       "version_minor": 0,
       "model_id": "7d7b6dfe78504b008a51a57e1294a7e5"
      }
     },
     "metadata": {}
    }
   ],
   "source": [
    "%matplotlib inline\n",
    "%gui qt\n",
    "import linkerapp as linkerAPP\n",
    "import linkerappUtil as Util\n",
    "import linkerappGUI as GUI"
   ]
  },
  {
   "cell_type": "code",
   "execution_count": null,
   "metadata": {},
   "outputs": [],
   "source": [
    "# select a working directory\n",
    "wd = GUI.folderDialog()"
   ]
  },
  {
   "cell_type": "code",
   "execution_count": null,
   "metadata": {},
   "outputs": [],
   "source": [
    "# select a cadnano deisgn file\n",
    "json = GUI.fileDialog(wd=wd, filter=\"caDNAno (*.json)\")"
   ]
  },
  {
   "cell_type": "code",
   "execution_count": null,
   "metadata": {},
   "outputs": [],
   "source": [
    "psf = GUI.fileDialog(wd=wd, filter=\"topology (*.psf)\")"
   ]
  },
  {
   "cell_type": "code",
   "execution_count": null,
   "metadata": {},
   "outputs": [],
   "source": [
    "coor = GUI.fileDialog(wd=wd, filter=\"coordinates (*.dcd *.pdb)\")"
   ]
  },
  {
   "cell_type": "code",
   "execution_count": null,
   "metadata": {},
   "outputs": [],
   "source": [
    "mrc = GUI.fileDialog(wd=wd, filter=\"cryo-map (*.mrc)\")"
   ]
  },
  {
   "cell_type": "code",
   "execution_count": null,
   "metadata": {},
   "outputs": [],
   "source": [
    "seq = GUI.fileDialog(wd=wd, filter=\"sequence file (*.seq *.txt)\")"
   ]
  },
  {
   "cell_type": "markdown",
   "metadata": {},
   "source": [
    "# 2. parse filepaths and create Viewer instance\n",
    "The viewer class contains both the data instances (design, map, model) and the selection functionality.\n",
    "On creating the linkage between these fit and design is computed. this step might require a couple of seconds, depending on the design size."
   ]
  },
  {
   "cell_type": "code",
   "execution_count": null,
   "metadata": {},
   "outputs": [],
   "source": [
    "files = linkerAPP.Files(json, psf, coor, mrc, seq)\n",
    "viewer = linkerAPP.Viewer(wd, files=files)"
   ]
  },
  {
   "cell_type": "markdown",
   "metadata": {},
   "source": [
    "# 3. select subset of the atomic model\n",
    "the viewer class supports different selection options:\n",
    "* design-specific selection: subset specified by helix-id and base-position as in caDNAno designfile.\n",
    "    * using selection widget -> option A\n",
    "    * manual selection -> option B\n",
    "* fit-specific selection: subset directly by MDAnalysis atomselection functionalities\n",
    "    * example strand-specific selection: -> option C\n",
    "    \n",
    "    \n",
    "In the end, all selections are translated into a selection of atom, stored as an MDAnalysis AtomGroup.   \n"
   ]
  },
  {
   "cell_type": "markdown",
   "metadata": {},
   "source": [
    "### Option A: selection with widget \n",
    "selection: selected helices (clicked) are displayed in dark grey. the \"base\" slider selects the base-position range.\n",
    "context: slider for the area surrounding a selected atom for mrc-cropping (in Å)\n",
    "\n",
    "<br />\n",
    "\n",
    "---\n",
    "\n",
    "the content of the widget is evaluated by executing\n",
    "\n",
    "``helixandbase, context = viewer.eval_sliders(*sliders)`` \n",
    "which returns a tuple containing two lists([helix-ids],[base_ids]) and the context value\n",
    "\n",
    "the list-tuple can be translated into an AtomGroup by executing:\n",
    "``atoms_selection, color_dict = viewer.select_by_helixandbase(*helixandbase)``\n",
    "\n",
    "the method returns the AtomGroup ``atoms_selection`` \n",
    "\n",
    "---\n",
    "\n",
    "(it also returns the dictionary ``color_dict`` containing information about staple coloring in the .json file, that can be used to color staples in the ngl_view widget)"
   ]
  },
  {
   "cell_type": "code",
   "execution_count": null,
   "metadata": {},
   "outputs": [],
   "source": [
    "sliders = viewer.select_widget()"
   ]
  },
  {
   "cell_type": "code",
   "execution_count": null,
   "metadata": {},
   "outputs": [],
   "source": [
    "helixandbase, context = viewer.eval_sliders(*sliders)\n",
    "atoms_selection, color_dict = viewer.select_by_helixandbase(*helixandbase)"
   ]
  },
  {
   "cell_type": "code",
   "execution_count": null,
   "metadata": {},
   "outputs": [],
   "source": [
    "print(helixandbase)\n",
    "len(atoms_selection.residues)"
   ]
  },
  {
   "cell_type": "markdown",
   "metadata": {},
   "source": [
    "### Option B: manual selection\n",
    "``viewer.select_by_helixandbase(helices, base)`` can also be called directly using two lists, specifying the helix-ids and base positions.\n",
    "\n",
    "the method can also be applied to multiple subsets of the data, as MDAnalysis AtomGroups can be combined to realize more complex selections. (more details see option C)"
   ]
  },
  {
   "cell_type": "code",
   "execution_count": null,
   "metadata": {},
   "outputs": [],
   "source": [
    "## example Option B:\n",
    "atoms_selection, color_dict = viewer.select_by_helixandbase([12,13], range(40,68))"
   ]
  },
  {
   "cell_type": "markdown",
   "metadata": {},
   "source": [
    "### option C: Fit secific selection\n",
    "generate atomselection using mdAnalysis. \n",
    "the MDAnalysis baseclass is available via ``viewer.linker.fit.u``\n",
    "\n",
    "documentation:(https://www.mdanalysis.org/docs/documentation_pages/selections.html)\n",
    "NOTES:\n",
    "* AtomGroups are combinable using set-syntax (f.e. selection = selectionA + selectionB)\n",
    "* AtomGroups can be inverted by subtraction them from the full system accessible via .universe.atoms attribute. this is usefull for creating masks for multibody and local scanning refinement processes.\n",
    "* (design-specific staple coloring is not compatible with this option)"
   ]
  },
  {
   "cell_type": "code",
   "execution_count": null,
   "metadata": {},
   "outputs": [],
   "source": [
    "## example Option C: all double-stranded segments with staples beginning with the sequence ATCG\n",
    "\n",
    "\"\"\"select all staples beginning with a specific sequence,\n",
    "via the intersection of all staples with the correct base condition\n",
    "start with all segments and filter with additional conditions\n",
    "\"\"\" \n",
    "u = viewer.linker.fit.u\n",
    "ATCG = u.segments\n",
    "for idx, X in enumerate([\"ADE\", \"THY\", \"CYT\", \"GUA\"]):\n",
    "    ATCG = ATCG.segments & u.select_atoms(\"resname {} and resid {}\".format(X, idx+1)).segments\n",
    "atoms_staple  = ATCG.segments.atoms\n",
    "\n",
    "\"\"\"select all paired scaffold bases using the Base-Pair list generated from the design in viewer.linker.link\n",
    "start with empty group and iteratively add all scaffold bases\n",
    "\"\"\"\n",
    "atoms_scaffold = Util.AtomGroup([],u)\n",
    "for residue in atoms_staple.residues:\n",
    "    watson_crick_base = viewer.linker.link.Fbp_full.get(residue.resindex, None)\n",
    "    if watson_crick_base:\n",
    "        atoms_scaffold += u.residues[watson_crick_base].atoms\n",
    "\n",
    "# combine scaffold and staple atoms to  form the final atom_selection\n",
    "atoms_selection = atoms_scaffold + atoms_staple\n",
    "context = 3"
   ]
  },
  {
   "cell_type": "markdown",
   "metadata": {},
   "source": [
    "# 3. Cropping and Zoning \n",
    "the generated AtomGroup can be used for\n",
    "* generating a pdb of te subset represented by the AtomGroup\n",
    "* creating a new mrc-map that only contains data in the vicinity (context) of the selected atoms \n",
    "\n",
    "<br />\n",
    "\n",
    "---\n",
    "create subset MRC-file\n",
    "\n",
    "``viewer.writemrc(atoms_selection, wd, name, [context=context, cut_box=True])``\n",
    "\n",
    "cut_box: if `True`, remove zero-padding from volume\n",
    "\n",
    "---\n",
    "\n",
    "create subset pdb-file (chimeraX compatible)\n",
    "\n",
    "``viewer.writepdb(atoms_selection, wd, name, [single_frame=True, frame=-1, chimeraX=True])``\n",
    "\n",
    "single_frame: if `False`, create multiframe pdb for full trajectory (multiframe can take a couple of minutes)\n",
    "\n",
    "frame: frame index to be saved, default -1 = last (only for .dcd file as coordinate-file)\\\n",
    "\n",
    "chimeraX: if `True`, also create chimeraX compatible pdb-file (\"name_chim.pdb\")"
   ]
  },
  {
   "cell_type": "code",
   "execution_count": null,
   "metadata": {},
   "outputs": [],
   "source": [
    "#choose output name\n",
    "name = \"slice-test2\""
   ]
  },
  {
   "cell_type": "code",
   "execution_count": null,
   "metadata": {},
   "outputs": [],
   "source": [
    "#create subset MRC-file\n",
    "viewer.writemrc(atoms_selection, name, context=context, cut_box=False)"
   ]
  },
  {
   "cell_type": "code",
   "execution_count": null,
   "metadata": {},
   "outputs": [],
   "source": [
    "#create subset pdb-file (chimeraX compatible)\n",
    "viewer.writepdb(atoms_selection, name, singleframe=True, frame=-1, chimeraX=True)"
   ]
  },
  {
   "cell_type": "markdown",
   "metadata": {},
   "source": [
    "# 4.  display selection\n",
    "NOTE: requires saved mrc file of the selection\n",
    "* isovalue: isosurface threshold\n",
    "* backbone: `True` -> only backbone atoms displayed (faster)\n",
    "* color_dict: `None` -> no staple coloring (faster)\n",
    "\n",
    "for detailed analysis Applications like UCSF-ChimeraX or VMD are recomended"
   ]
  },
  {
   "cell_type": "code",
   "execution_count": null,
   "metadata": {
    "scrolled": false
   },
   "outputs": [],
   "source": [
    "mrc = viewer.project.folder / \"{}.mrc\".format(name)\n",
    "Util.fit_widget(atoms_selection, mrc, isolevel=1.35, backbone=True, color_dict=None)"
   ]
  },
  {
   "cell_type": "markdown",
   "metadata": {},
   "source": [
    " \n",
    " \n",
    " \n",
    " \n",
    " \n",
    " "
   ]
  },
  {
   "cell_type": "markdown",
   "metadata": {},
   "source": [
    "  "
   ]
  }
 ],
 "metadata": {
  "kernelspec": {
   "display_name": "v-i_3.6.7",
   "language": "python",
   "name": "v-i_3.6.7"
  },
  "language_info": {
   "codemirror_mode": {
    "name": "ipython",
    "version": 3
   },
   "file_extension": ".py",
   "mimetype": "text/x-python",
   "name": "python",
   "nbconvert_exporter": "python",
   "pygments_lexer": "ipython3",
   "version": "3.6.7-final"
  }
 },
 "nbformat": 4,
 "nbformat_minor": 2
}